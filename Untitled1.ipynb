{
 "cells": [
  {
   "cell_type": "markdown",
   "id": "48fa6dd4",
   "metadata": {},
   "source": [
    "1,\n",
    "Standard deviation shows data variability, while standard error of the mean reflects the precision of the sample mean as an estimate of the population mean."
   ]
  },
  {
   "cell_type": "markdown",
   "id": "06ccc89f",
   "metadata": {},
   "source": [
    "2,\n",
    "Multiply the SEM by 1.96 (the z-score for 95% confidence in a normal distribution).\n",
    "Add and subtract this value from the sample mean."
   ]
  },
  {
   "cell_type": "markdown",
   "id": "3426b100",
   "metadata": {},
   "source": [
    "3,\n",
    "1)Collect all bootstrapped sample means.\n",
    "2)Sort these means from lowest to highest.\n",
    "3)Identify the 2.5th percentile and the 97.5th percentile of the sorted means."
   ]
  },
  {
   "cell_type": "markdown",
   "id": "a806c998",
   "metadata": {},
   "source": [
    "4,"
   ]
  },
  {
   "cell_type": "markdown",
   "id": "ca9e1a2a",
   "metadata": {},
   "source": [
    "me:\n",
    "The \"Pre-lecture\" video (above) mentioned that bootstrap confidence intervals could apply to other statistics of the sample, such as the \"median\". Work with a ChatBot to create code to produce a 95% bootstrap confidence interval for a population mean based on a sample that you have and comment the code to demonstrate how the code can be changed to produce a 95% bootstrap confidence interval for different population parameter (other than the population mean, such as the population median)."
   ]
  },
  {
   "cell_type": "markdown",
   "id": "b4432e6b",
   "metadata": {},
   "source": [
    "chatgpt:\n",
    "Sure! I'll show you how to create a 95% bootstrap confidence interval for a population mean, and I'll comment on the code to explain how you can adapt it to other statistic"
   ]
  },
  {
   "cell_type": "code",
   "execution_count": 1,
   "id": "2558ce03",
   "metadata": {},
   "outputs": [
    {
     "name": "stdout",
     "output_type": "stream",
     "text": [
      "95% Bootstrap Confidence Interval for the Mean: [13.4, 17.1]\n",
      "95% Bootstrap Confidence Interval for the Median: [13.0, 18.0]\n"
     ]
    }
   ],
   "source": [
    "import numpy as np\n",
    "\n",
    "# Define a sample from which we want to estimate the confidence interval\n",
    "sample = np.array([12, 15, 14, 10, 18, 20, 15, 13, 17, 19])\n",
    "\n",
    "# Number of bootstrap samples\n",
    "n_bootstrap = 1000\n",
    "\n",
    "# Create an array to store the means from each bootstrap sample\n",
    "bootstrap_means = []\n",
    "\n",
    "# Generate bootstrap samples\n",
    "for _ in range(n_bootstrap):\n",
    "    # Draw a bootstrap sample with replacement from the original sample\n",
    "    bootstrap_sample = np.random.choice(sample, size=len(sample), replace=True)\n",
    "    # Calculate the sample mean and store it\n",
    "    bootstrap_means.append(np.mean(bootstrap_sample))\n",
    "\n",
    "# Calculate the 95% confidence interval for the mean\n",
    "lower_bound = np.percentile(bootstrap_means, 2.5)  # Lower bound (2.5th percentile)\n",
    "upper_bound = np.percentile(bootstrap_means, 97.5)  # Upper bound (97.5th percentile)\n",
    "\n",
    "print(f\"95% Bootstrap Confidence Interval for the Mean: [{lower_bound}, {upper_bound}]\")\n",
    "\n",
    "# --------------------- Comments to adapt the code ---------------------\n",
    "\n",
    "# 1. The main change to calculate the confidence interval for a different statistic (e.g., median) is to modify \n",
    "#    the calculation inside the loop. For example, replace `np.mean(bootstrap_sample)` with `np.median(bootstrap_sample)`.\n",
    "\n",
    "# 2. The rest of the code, including drawing bootstrap samples and calculating the percentiles for the confidence \n",
    "#    interval, remains the same.\n",
    "\n",
    "# Example for Median:\n",
    "bootstrap_medians = []\n",
    "\n",
    "for _ in range(n_bootstrap):\n",
    "    bootstrap_sample = np.random.choice(sample, size=len(sample), replace=True)\n",
    "    bootstrap_medians.append(np.median(bootstrap_sample))\n",
    "\n",
    "lower_bound_median = np.percentile(bootstrap_medians, 2.5)\n",
    "upper_bound_median = np.percentile(bootstrap_medians, 97.5)\n",
    "\n",
    "print(f\"95% Bootstrap Confidence Interval for the Median: [{lower_bound_median}, {upper_bound_median}]\")\n"
   ]
  },
  {
   "cell_type": "markdown",
   "id": "890d700e",
   "metadata": {},
   "source": [
    "Explanation:\n",
    "Sample: Define a sample from which we want to estimate the confidence interval.\n",
    "Number of bootstrap samples: This is the number of times we want to resample from the original sample to generate bootstrap statistics.\n",
    "Bootstrap Loop:\n",
    "Draw a sample (with replacement) of the same size as the original sample.\n",
    "Calculate the mean (or any other statistic) and store it.\n",
    "Confidence Interval Calculation:\n",
    "Use the 2.5th and 97.5th percentiles of the bootstrap sample statistics to estimate the 95% confidence interval.\n",
    "Adapting the Code:\n",
    "To adapt the code for different statistics (e.g., median), replace np.mean(bootstrap_sample) with the desired function, such as np.median(bootstrap_sample). The rest of the code remains the same since the bootstrap method is flexible and can be used for different sample statistics."
   ]
  },
  {
   "cell_type": "markdown",
   "id": "fcd733ef",
   "metadata": {},
   "source": [
    "5,"
   ]
  },
  {
   "cell_type": "markdown",
   "id": "561021de",
   "metadata": {},
   "source": [
    "me:\n",
    "The previous question addresses making a confidence interval for a population parameter based on a sample statistic. Why do we need to distinguish between the role of the popualation parameter and the sample sample statistic when it comes to confidence intervals? Explain this concisely in your own words."
   ]
  },
  {
   "cell_type": "markdown",
   "id": "6413d613",
   "metadata": {},
   "source": [
    "chatgpt:\n",
    "We need to distinguish between the population parameter and the sample statistic because a confidence interval estimates the unknown population parameter (e.g., true mean or median) based on the sample statistic (e.g., sample mean or median). The sample statistic is a measurable value derived from the data we have, while the population parameter is a theoretical value we are trying to infer. This distinction is crucial because the confidence interval uses the variability in sample statistics to make probabilistic statements about the population parameter, not the sample itself."
   ]
  },
  {
   "cell_type": "markdown",
   "id": "7f5a1ea4",
   "metadata": {},
   "source": [
    "6,"
   ]
  },
  {
   "cell_type": "markdown",
   "id": "37a74866",
   "metadata": {},
   "source": [
    "me:\n",
    "Provide written answers explaining the answers to the following questions in an informal manner of a conversation with a friend with little experience with statistics.\n",
    "What is the process of bootstrapping?\n",
    "What is the main purpose of bootstrapping?\n",
    "If you had a (hypothesized) guess about what the average of a population was, and you had a sample of size n from that population, how could you use bootstrapping to assess whether or not your (hypothesized) guess might be plausible?"
   ]
  },
  {
   "cell_type": "markdown",
   "id": "7d144784",
   "metadata": {},
   "source": [
    "gpt:\n",
    "What is the process of bootstrapping?\n",
    "Bootstrapping is a method where we repeatedly take random samples with replacement from an original dataset. Think of it like you have a bag of marbles (your sample), and you keep drawing a marble, noting its value, and then putting it back into the bag before drawing again. You do this many times to create \"new\" datasets that are similar to the original. This lets us see how different sample statistics (like the mean or median) can vary and helps us make inferences about the bigger picture (the whole population), even when we only have a small set of data to begin with.\n",
    "\n",
    "What is the main purpose of bootstrapping?\n",
    "The main purpose of bootstrapping is to estimate the uncertainty or variability of a sample statistic. Basically, if you want to know how confident you can be in a statistic like the sample mean or median, bootstrapping helps you get an idea of how much that statistic could change if you sampled again from the population. It’s a way to create confidence intervals and test hypotheses without needing complicated math formulas—just by resampling and re-computing.\n",
    "\n",
    "If you had a (hypothesized) guess about what the average of a population was, and you had a sample of size n from that population, how could you use bootstrapping to assess whether or not your (hypothesized) guess might be plausible?\n",
    "Let's say you have a hypothesis that the average height of students in a school is 160 cm, but you only have a sample of 30 students. You could use bootstrapping to create a lot of \"fake\" samples (based on the original 30 students) and calculate the average height for each of these samples. After doing this many times, you’d have a distribution of average heights.\n",
    "\n",
    "Then, you can see where your hypothesized average (160 cm) falls within this distribution. If 160 cm is far outside most of the bootstrapped averages, then it’s unlikely that 160 cm is the true average of the population. But if it’s somewhere near the middle, your guess seems more reasonable. It’s like checking if your hypothesis fits in or stands out too much from what your sample suggests."
   ]
  },
  {
   "cell_type": "markdown",
   "id": "4e7e7875",
   "metadata": {},
   "source": [
    "7,When there are zeros in the confidence interval of the mean, it means that the drug may have no effect whatsoever. So we have no way to rule out that we can't drop the assumption of 0 when the drug didn't work."
   ]
  },
  {
   "cell_type": "markdown",
   "id": "cf405466",
   "metadata": {},
   "source": [
    "8，"
   ]
  },
  {
   "cell_type": "markdown",
   "id": "7370960a",
   "metadata": {},
   "source": [
    "me:Vaccine Data Analysis Assignment\n",
    "Overview\n",
    "\n",
    "The company AliTech has created a new vaccine that aims to improve the health of the people who take it. Your job is to use what you have learned in the course to give evidence for whether or not the vaccine is effective.\n",
    "\n",
    "Data AliTech has released the following data.\n",
    "\n",
    "csv\n",
    "PatientID,Age,Gender,InitialHealthScore,FinalHealthScore\n",
    "1,45,M,84,86\n",
    "2,34,F,78,86\n",
    "3,29,M,83,80\n",
    "4,52,F,81,86\n",
    "5,37,M,81,84\n",
    "6,41,F,80,86\n",
    "7,33,M,79,86\n",
    "8,48,F,85,82\n",
    "9,26,M,76,83\n",
    "10,39,F,83,84"
   ]
  },
  {
   "cell_type": "markdown",
   "id": "685718e7",
   "metadata": {},
   "source": [
    "gpt:\n",
    "To analyze whether the vaccine is effective, we can start by comparing the InitialHealthScore and FinalHealthScore for each patient. We'll focus on computing the change in health scores and then performing some statistical analysis, like calculating a confidence interval for the mean change or conducting a hypothesis test. Let’s break down the steps:\n",
    "\n",
    "Step 1: Calculate the change in health score for each patient\n",
    "We’ll create a new column that represents the difference between the FinalHealthScore and the InitialHealthScore. This will help us see if the health of the patients improved, declined, or stayed the same after taking the vaccine.\n",
    "\n",
    "Step 2: Calculate the average change and create a confidence interval\n",
    "Using bootstrapping, we can generate a confidence interval for the mean change in health score to see if there’s significant improvement on average.\n",
    "\n",
    "Step 3: Hypothesis Testing\n",
    "We’ll conduct a hypothesis test to see if the mean change is significantly different from zero (which would indicate that the vaccine has some effect).\n",
    "\n",
    "Let's implement this analysis in code using the provided data."
   ]
  },
  {
   "cell_type": "code",
   "execution_count": 2,
   "id": "7aa411a2",
   "metadata": {},
   "outputs": [
    {
     "name": "stdout",
     "output_type": "stream",
     "text": [
      "Data with Health Score Change:\n",
      "    PatientID  Age Gender  InitialHealthScore  FinalHealthScore  \\\n",
      "0          1   45      M                  84                86   \n",
      "1          2   34      F                  78                86   \n",
      "2          3   29      M                  83                80   \n",
      "3          4   52      F                  81                86   \n",
      "4          5   37      M                  81                84   \n",
      "5          6   41      F                  80                86   \n",
      "6          7   33      M                  79                86   \n",
      "7          8   48      F                  85                82   \n",
      "8          9   26      M                  76                83   \n",
      "9         10   39      F                  83                84   \n",
      "\n",
      "   HealthScoreChange  \n",
      "0                  2  \n",
      "1                  8  \n",
      "2                 -3  \n",
      "3                  5  \n",
      "4                  3  \n",
      "5                  6  \n",
      "6                  7  \n",
      "7                 -3  \n",
      "8                  7  \n",
      "9                  1  \n",
      "\n",
      "Mean Change in Health Score: 3.30\n",
      "\n",
      "95% Bootstrap Confidence Interval for Mean Change: [0.80, 5.40]\n",
      "\n",
      "T-statistic: 2.59\n",
      "P-value: 0.0292\n",
      "\n",
      "We reject the null hypothesis. The vaccine appears to have a significant effect on health scores.\n"
     ]
    }
   ],
   "source": [
    "import pandas as pd\n",
    "import numpy as np\n",
    "\n",
    "# Load the data\n",
    "data = pd.DataFrame({\n",
    "    'PatientID': [1, 2, 3, 4, 5, 6, 7, 8, 9, 10],\n",
    "    'Age': [45, 34, 29, 52, 37, 41, 33, 48, 26, 39],\n",
    "    'Gender': ['M', 'F', 'M', 'F', 'M', 'F', 'M', 'F', 'M', 'F'],\n",
    "    'InitialHealthScore': [84, 78, 83, 81, 81, 80, 79, 85, 76, 83],\n",
    "    'FinalHealthScore': [86, 86, 80, 86, 84, 86, 86, 82, 83, 84]\n",
    "})\n",
    "\n",
    "# Calculate the change in health score\n",
    "data['HealthScoreChange'] = data['FinalHealthScore'] - data['InitialHealthScore']\n",
    "\n",
    "# Display the data to visualize changes\n",
    "print(\"Data with Health Score Change:\\n\", data)\n",
    "\n",
    "# Calculate the mean change\n",
    "mean_change = np.mean(data['HealthScoreChange'])\n",
    "print(f\"\\nMean Change in Health Score: {mean_change:.2f}\")\n",
    "\n",
    "# Bootstrap analysis\n",
    "n_bootstrap = 1000\n",
    "bootstrap_means = []\n",
    "\n",
    "# Bootstrapping to calculate the confidence interval\n",
    "for _ in range(n_bootstrap):\n",
    "    bootstrap_sample = np.random.choice(data['HealthScoreChange'], size=len(data), replace=True)\n",
    "    bootstrap_means.append(np.mean(bootstrap_sample))\n",
    "\n",
    "# Calculate the 95% confidence interval\n",
    "lower_bound = np.percentile(bootstrap_means, 2.5)\n",
    "upper_bound = np.percentile(bootstrap_means, 97.5)\n",
    "print(f\"\\n95% Bootstrap Confidence Interval for Mean Change: [{lower_bound:.2f}, {upper_bound:.2f}]\")\n",
    "\n",
    "# Hypothesis testing\n",
    "# Null hypothesis: The mean change in health score is zero (no effect)\n",
    "# Alternative hypothesis: The mean change in health score is not zero (there is an effect)\n",
    "t_statistic = mean_change / (np.std(data['HealthScoreChange'], ddof=1) / np.sqrt(len(data)))\n",
    "print(f\"\\nT-statistic: {t_statistic:.2f}\")\n",
    "\n",
    "import scipy.stats as stats\n",
    "p_value = 2 * (1 - stats.t.cdf(np.abs(t_statistic), df=len(data)-1))  # Two-tailed test\n",
    "print(f\"P-value: {p_value:.4f}\")\n",
    "\n",
    "# Conclusion\n",
    "if p_value < 0.05:\n",
    "    print(\"\\nWe reject the null hypothesis. The vaccine appears to have a significant effect on health scores.\")\n",
    "else:\n",
    "    print(\"\\nWe fail to reject the null hypothesis. There is no significant evidence that the vaccine changes health scores.\")\n"
   ]
  },
  {
   "cell_type": "markdown",
   "id": "77eef817",
   "metadata": {},
   "source": [
    "Explanation:\n",
    "Calculate Change: We created a HealthScoreChange column to measure the difference between the initial and final scores.\n",
    "Mean Change: We computed the mean of these changes to get an overall sense of improvement or decline.\n",
    "Bootstrap Confidence Interval: We used bootstrapping to generate a 95% confidence interval for the mean change.\n",
    "Hypothesis Testing: We tested whether the mean change is significantly different from zero using a t-test and obtained the p-value.\n",
    "Interpretation:\n",
    "If the confidence interval for the mean change does not include zero and the p-value is less than 0.05, we conclude that the vaccine has a statistically significant effect on health scores.\n",
    "Otherwise, we do not have strong enough evidence to say that the vaccine is effective."
   ]
  },
  {
   "cell_type": "markdown",
   "id": "48c22307",
   "metadata": {},
   "source": [
    "9，yes.I do interact with chatgpt and will ask him to explain why he did it."
   ]
  },
  {
   "cell_type": "markdown",
   "id": "a5538a36",
   "metadata": {},
   "source": [
    "https://chatgpt.com/share/66ff5b16-6060-8001-8593-34ae6de96d79"
   ]
  }
 ],
 "metadata": {
  "kernelspec": {
   "display_name": "Python 3 (ipykernel)",
   "language": "python",
   "name": "python3"
  },
  "language_info": {
   "codemirror_mode": {
    "name": "ipython",
    "version": 3
   },
   "file_extension": ".py",
   "mimetype": "text/x-python",
   "name": "python",
   "nbconvert_exporter": "python",
   "pygments_lexer": "ipython3",
   "version": "3.11.6"
  }
 },
 "nbformat": 4,
 "nbformat_minor": 5
}
